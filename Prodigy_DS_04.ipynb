{
 "cells": [
  {
   "cell_type": "code",
   "execution_count": 11,
   "id": "0a7db143-004f-4b7e-b01c-a2b1056fcd3f",
   "metadata": {},
   "outputs": [],
   "source": [
    "\n",
    "import matplotlib.pyplot as plt\n",
    "import seaborn as sns"
   ]
  },
  {
   "cell_type": "code",
   "execution_count": 17,
   "id": "861198dc-d700-47b4-a378-aae971644861",
   "metadata": {},
   "outputs": [
    {
     "name": "stdout",
     "output_type": "stream",
     "text": [
      "   Twitter id       entity sentiment  \\\n",
      "0        2401  Borderlands  Positive   \n",
      "1        2401  Borderlands  Positive   \n",
      "2        2401  Borderlands  Positive   \n",
      "3        2401  Borderlands  Positive   \n",
      "4        2401  Borderlands  Positive   \n",
      "5        2401  Borderlands  Positive   \n",
      "6        2402  Borderlands  Positive   \n",
      "7        2402  Borderlands  Positive   \n",
      "8        2402  Borderlands  Positive   \n",
      "9        2402  Borderlands  Positive   \n",
      "\n",
      "                                       Tweet content  \n",
      "0  im getting on borderlands and i will murder yo...  \n",
      "1  I am coming to the borders and I will kill you...  \n",
      "2  im getting on borderlands and i will kill you ...  \n",
      "3  im coming on borderlands and i will murder you...  \n",
      "4  im getting on borderlands 2 and i will murder ...  \n",
      "5  im getting into borderlands and i can murder y...  \n",
      "6  So I spent a few hours making something for fu...  \n",
      "7  So I spent a couple of hours doing something f...  \n",
      "8  So I spent a few hours doing something for fun...  \n",
      "9  So I spent a few hours making something for fu...  \n"
     ]
    }
   ],
   "source": [
    "import pandas as pd\n",
    "\n",
    "# Reading the CSV file with a different encoding\n",
    "df = pd.read_csv(r\"C:\\Users\\DELL\\twitter_training.csv\", encoding='ISO-8859-1')\n",
    "\n",
    "\n",
    "# Check the first ten rows to ensure the data was read correctly\n",
    "print(df.head(10))\n"
   ]
  },
  {
   "cell_type": "code",
   "execution_count": 25,
   "id": "c086ee65-0ea0-47be-ae60-3a4cd2974e79",
   "metadata": {},
   "outputs": [
    {
     "data": {
      "text/plain": [
       "Negative      22542\n",
       "Positive      20832\n",
       "Neutral       18318\n",
       "Irrelevant    12990\n",
       "Name: sentiment, dtype: int64"
      ]
     },
     "execution_count": 25,
     "metadata": {},
     "output_type": "execute_result"
    }
   ],
   "source": [
    "df[\"sentiment\"].value_counts()\n"
   ]
  },
  {
   "cell_type": "code",
   "execution_count": 29,
   "id": "27bd06b4-0c28-4b58-b160-7c3bcffa49a4",
   "metadata": {},
   "outputs": [
    {
     "data": {
      "text/plain": [
       "Twitter id         0\n",
       "entity             0\n",
       "sentiment          0\n",
       "Tweet content    686\n",
       "dtype: int64"
      ]
     },
     "execution_count": 29,
     "metadata": {},
     "output_type": "execute_result"
    }
   ],
   "source": [
    "df.isnull().sum()"
   ]
  },
  {
   "cell_type": "markdown",
   "id": "f7f30643-5b2c-4323-98e0-deb34ae75d1a",
   "metadata": {},
   "source": [
    "## Data Cleaning"
   ]
  },
  {
   "cell_type": "code",
   "execution_count": 35,
   "id": "caa706fe-5f3d-4b1f-a8fe-36a4f7c0f462",
   "metadata": {},
   "outputs": [
    {
     "name": "stdout",
     "output_type": "stream",
     "text": [
      "Shape of dataset excluding missing values: (73996, 4)\n"
     ]
    }
   ],
   "source": [
    "df.dropna(subset=['sentiment', 'entity', 'Tweet content'], inplace=True)\n",
    "print(f\"Shape of dataset excluding missing values: {df.shape}\")"
   ]
  },
  {
   "cell_type": "code",
   "execution_count": 49,
   "id": "f9c149d8-f5c4-48d9-95c8-86c1c71ae6d4",
   "metadata": {},
   "outputs": [
    {
     "name": "stdout",
     "output_type": "stream",
     "text": [
      "                                       Tweet content  \\\n",
      "0  im getting on borderlands and i will murder yo...   \n",
      "1  I am coming to the borders and I will kill you...   \n",
      "2  im getting on borderlands and i will kill you ...   \n",
      "3  im coming on borderlands and i will murder you...   \n",
      "4  im getting on borderlands 2 and i will murder ...   \n",
      "5  im getting into borderlands and i can murder y...   \n",
      "6  So I spent a few hours making something for fu...   \n",
      "7  So I spent a couple of hours doing something f...   \n",
      "8  So I spent a few hours doing something for fun...   \n",
      "9  So I spent a few hours making something for fu...   \n",
      "\n",
      "                                       cleaned_tweet  \n",
      "0  im getting on borderlands and i will murder yo...  \n",
      "1  i am coming to the borders and i will kill you...  \n",
      "2  im getting on borderlands and i will kill you all  \n",
      "3  im coming on borderlands and i will murder you...  \n",
      "4  im getting on borderlands  and i will murder y...  \n",
      "5  im getting into borderlands and i can murder y...  \n",
      "6  so i spent a few hours making something for fu...  \n",
      "7  so i spent a couple of hours doing something f...  \n",
      "8  so i spent a few hours doing something for fun...  \n",
      "9  so i spent a few hours making something for fu...  \n"
     ]
    }
   ],
   "source": [
    "import re  # Importing the regular expression (re) module for pattern matching and text manipulation\n",
    "\n",
    "\n",
    "def clean_text(text):\n",
    "    # Removing URLs (http, https, or www) from the text using regular expression\n",
    "    text = re.sub(r'http\\S+|www\\S+|https\\S+', '', text, flags=re.MULTILINE)\n",
    "    \n",
    "    # Removing mentions (@username) and hashtags (#hashtag) from the text\n",
    "    text = re.sub(r'@\\w+|#\\w+', '', text)\n",
    "    \n",
    "    # Removing any non-alphabetic characters (numbers, punctuation, etc.)\n",
    "    # Only keeping alphabetic characters and spaces\n",
    "    text = re.sub(r'[^a-zA-Z\\s]', '', text)\n",
    "    \n",
    "    # Converting all characters to lowercase to standardize the text\n",
    "    text = text.lower()\n",
    "    \n",
    "    # Returning the cleaned text\n",
    "    return text\n",
    "\n",
    "\n",
    "# Applying the clean_text function to the 'Tweet content' column of the DataFrame\n",
    "# Creating a new column 'cleaned_tweet' with the cleaned text for each tweet\n",
    "df['cleaned_tweet'] = df['Tweet content'].apply(clean_text)\n",
    "\n",
    "# Displaying the first 10 rows of the original 'Tweet content' and cleaned 'cleaned_tweet' columns\n",
    "print(df[['Tweet content', 'cleaned_tweet']].head(10))\n"
   ]
  },
  {
   "cell_type": "code",
   "execution_count": 55,
   "id": "112dc43c-6409-4bc3-bbfe-943deffd18ee",
   "metadata": {},
   "outputs": [
    {
     "name": "stderr",
     "output_type": "stream",
     "text": [
      "C:\\Users\\DELL\\AppData\\Local\\Temp\\ipykernel_3100\\2101087099.py:7: FutureWarning: \n",
      "\n",
      "Passing `palette` without assigning `hue` is deprecated and will be removed in v0.14.0. Assign the `x` variable to `hue` and set `legend=False` for the same effect.\n",
      "\n",
      "  bar_plot = sns.barplot(x=Sentiment.index, y=Sentiment.values, palette='coolwarm')  # Custom color palette (e.g., 'coolwarm')\n"
     ]
    },
    {
     "data": {
      "image/png": "[encoded data removed]",
      "text/plain": [
       "<Figure size 800x600 with 1 Axes>"
      ]
     },
     "metadata": {},
     "output_type": "display_data"
    }
   ],
   "source": [
    "import matplotlib.pyplot as plt\n",
    "import seaborn as sns\n",
    "import mplcursors  # For interactivity\n",
    "\n",
    "# Creating the bar plot\n",
    "plt.figure(figsize=(8, 6))\n",
    "bar_plot = sns.barplot(x=Sentiment.index, y=Sentiment.values, palette='coolwarm')  # Custom color palette (e.g., 'coolwarm')\n",
    "\n",
    "# Adding title, labels, and grid\n",
    "plt.title('Sentiment Distribution', fontsize=16)\n",
    "plt.xlabel('Sentiment', fontsize=12)\n",
    "plt.ylabel('Frequency', fontsize=12)\n",
    "\n",
    "# Adding interactivity: show the frequency when hovering over the bars\n",
    "cursor = mplcursors.cursor(bar_plot.patches, hover=True)\n",
    "cursor.connect(\"add\", lambda sel: sel.annotation.set_text(f\"Frequency: {int(Sentiment.values[sel.index])}\"))\n",
    "\n",
    "# Showing the plot\n",
    "plt.show()\n"
   ]
  },
  {
   "cell_type": "code",
   "execution_count": null,
   "id": "084d9d60-e215-4b48-8c9f-7a5c9aa9f214",
   "metadata": {},
   "outputs": [],
   "source": []
  }
 ],
 "metadata": {
  "kernelspec": {
   "display_name": "Python 3 (ipykernel)",
   "language": "python",
   "name": "python3"
  },
  "language_info": {
   "codemirror_mode": {
    "name": "ipython",
    "version": 3
   },
   "file_extension": ".py",
   "mimetype": "text/x-python",
   "name": "python",
   "nbconvert_exporter": "python",
   "pygments_lexer": "ipython3",
   "version": "3.11.2"
  }
 },
 "nbformat": 4,
 "nbformat_minor": 5
}
